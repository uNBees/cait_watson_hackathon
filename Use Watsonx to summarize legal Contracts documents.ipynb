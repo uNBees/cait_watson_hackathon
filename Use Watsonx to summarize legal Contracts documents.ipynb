{
 "cells": [
  {
   "cell_type": "markdown",
   "metadata": {
    "pycharm": {
     "name": "#%% md\n"
    }
   },
   "source": [
    "![image](https://raw.githubusercontent.com/IBM/watson-machine-learning-samples/master/cloud/notebooks/headers/watsonx-Prompt_Lab-Notebook.png)\n",
    "# Use Watsonx to summarize legal Contracts documents."
   ]
  },
  {
   "cell_type": "markdown",
   "metadata": {},
   "source": [
    "**Note:** Please note that for the watsonx challenge, please run these notebooks locally on your laptop/desktop and do not run it in IBM Cloud.  The instructions for running the notebook locally are provided in the readme.md file present in the zip file."
   ]
  },
  {
   "cell_type": "markdown",
   "metadata": {
    "pycharm": {
     "name": "#%% md\n"
    }
   },
   "source": [
    "This notebook contains the steps and code to demonstrate support of text summarization in Watsonx. It introduces commands for data retrieval and model testing.\n",
    "\n",
    "Some familiarity with Python is helpful. This notebook uses Python 3.10."
   ]
  },
  {
   "cell_type": "markdown",
   "metadata": {
    "pycharm": {
     "name": "#%% md\n"
    }
   },
   "source": [
    "<a id=\"setup\"></a>\n",
    "##  Set up the environment\n",
    "\n"
   ]
  },
  {
   "cell_type": "markdown",
   "metadata": {
    "pycharm": {
     "name": "#%% md\n"
    }
   },
   "source": [
    "### Install and import the dependecies\n",
    "\n",
    "**Note:** For Windows environments, please remove `| tail -n 1` commands in the cell below."
   ]
  },
  {
   "cell_type": "code",
   "execution_count": 1,
   "metadata": {
    "pycharm": {
     "name": "#%%\n"
    }
   },
   "outputs": [
    {
     "name": "stdout",
     "output_type": "stream",
     "text": [
      "Requirement already satisfied: rouge_score in c:\\users\\silic\\appdata\\local\\programs\\python\\python311\\lib\\site-packages (0.1.2)\n",
      "Requirement already satisfied: absl-py in c:\\users\\silic\\appdata\\local\\programs\\python\\python311\\lib\\site-packages (from rouge_score) (1.4.0)\n",
      "Requirement already satisfied: nltk in c:\\users\\silic\\appdata\\local\\programs\\python\\python311\\lib\\site-packages (from rouge_score) (3.8.1)\n",
      "Requirement already satisfied: numpy in c:\\users\\silic\\appdata\\local\\programs\\python\\python311\\lib\\site-packages (from rouge_score) (1.25.2)\n",
      "Requirement already satisfied: six>=1.14.0 in c:\\users\\silic\\appdata\\local\\programs\\python\\python311\\lib\\site-packages (from rouge_score) (1.16.0)\n",
      "Requirement already satisfied: click in c:\\users\\silic\\appdata\\local\\programs\\python\\python311\\lib\\site-packages (from nltk->rouge_score) (8.1.6)\n",
      "Requirement already satisfied: joblib in c:\\users\\silic\\appdata\\local\\programs\\python\\python311\\lib\\site-packages (from nltk->rouge_score) (1.3.1)\n",
      "Requirement already satisfied: regex>=2021.8.3 in c:\\users\\silic\\appdata\\local\\programs\\python\\python311\\lib\\site-packages (from nltk->rouge_score) (2023.6.3)\n",
      "Requirement already satisfied: tqdm in c:\\users\\silic\\appdata\\local\\programs\\python\\python311\\lib\\site-packages (from nltk->rouge_score) (4.65.0)\n",
      "Requirement already satisfied: colorama in c:\\users\\silic\\appdata\\local\\programs\\python\\python311\\lib\\site-packages (from click->nltk->rouge_score) (0.4.6)\n",
      "Requirement already satisfied: nltk in c:\\users\\silic\\appdata\\local\\programs\\python\\python311\\lib\\site-packages (3.8.1)\n",
      "Requirement already satisfied: click in c:\\users\\silic\\appdata\\local\\programs\\python\\python311\\lib\\site-packages (from nltk) (8.1.6)\n",
      "Requirement already satisfied: joblib in c:\\users\\silic\\appdata\\local\\programs\\python\\python311\\lib\\site-packages (from nltk) (1.3.1)\n",
      "Requirement already satisfied: regex>=2021.8.3 in c:\\users\\silic\\appdata\\local\\programs\\python\\python311\\lib\\site-packages (from nltk) (2023.6.3)\n",
      "Requirement already satisfied: tqdm in c:\\users\\silic\\appdata\\local\\programs\\python\\python311\\lib\\site-packages (from nltk) (4.65.0)\n",
      "Requirement already satisfied: colorama in c:\\users\\silic\\appdata\\local\\programs\\python\\python311\\lib\\site-packages (from click->nltk) (0.4.6)\n",
      "Requirement already satisfied: matplotlib in c:\\users\\silic\\appdata\\local\\programs\\python\\python311\\lib\\site-packages (3.7.2)\n",
      "Requirement already satisfied: contourpy>=1.0.1 in c:\\users\\silic\\appdata\\local\\programs\\python\\python311\\lib\\site-packages (from matplotlib) (1.1.0)\n",
      "Requirement already satisfied: cycler>=0.10 in c:\\users\\silic\\appdata\\local\\programs\\python\\python311\\lib\\site-packages (from matplotlib) (0.11.0)\n",
      "Requirement already satisfied: fonttools>=4.22.0 in c:\\users\\silic\\appdata\\local\\programs\\python\\python311\\lib\\site-packages (from matplotlib) (4.42.0)\n",
      "Requirement already satisfied: kiwisolver>=1.0.1 in c:\\users\\silic\\appdata\\local\\programs\\python\\python311\\lib\\site-packages (from matplotlib) (1.4.4)\n",
      "Requirement already satisfied: numpy>=1.20 in c:\\users\\silic\\appdata\\local\\programs\\python\\python311\\lib\\site-packages (from matplotlib) (1.25.2)\n",
      "Requirement already satisfied: packaging>=20.0 in c:\\users\\silic\\appdata\\local\\programs\\python\\python311\\lib\\site-packages (from matplotlib) (23.1)\n",
      "Requirement already satisfied: pillow>=6.2.0 in c:\\users\\silic\\appdata\\local\\programs\\python\\python311\\lib\\site-packages (from matplotlib) (10.0.0)\n",
      "Requirement already satisfied: pyparsing<3.1,>=2.3.1 in c:\\users\\silic\\appdata\\local\\programs\\python\\python311\\lib\\site-packages (from matplotlib) (3.0.9)\n",
      "Requirement already satisfied: python-dateutil>=2.7 in c:\\users\\silic\\appdata\\local\\programs\\python\\python311\\lib\\site-packages (from matplotlib) (2.8.2)\n",
      "Requirement already satisfied: six>=1.5 in c:\\users\\silic\\appdata\\local\\programs\\python\\python311\\lib\\site-packages (from python-dateutil>=2.7->matplotlib) (1.16.0)\n",
      "Requirement already satisfied: ibm-watson-machine-learning==1.0.312 in c:\\users\\silic\\appdata\\local\\programs\\python\\python311\\lib\\site-packages (1.0.312)\n",
      "Requirement already satisfied: requests in c:\\users\\silic\\appdata\\local\\programs\\python\\python311\\lib\\site-packages (from ibm-watson-machine-learning==1.0.312) (2.31.0)\n",
      "Requirement already satisfied: urllib3 in c:\\users\\silic\\appdata\\local\\programs\\python\\python311\\lib\\site-packages (from ibm-watson-machine-learning==1.0.312) (1.26.16)\n",
      "Requirement already satisfied: pandas<1.6.0,>=0.24.2 in c:\\users\\silic\\appdata\\local\\programs\\python\\python311\\lib\\site-packages (from ibm-watson-machine-learning==1.0.312) (1.5.3)\n",
      "Requirement already satisfied: certifi in c:\\users\\silic\\appdata\\local\\programs\\python\\python311\\lib\\site-packages (from ibm-watson-machine-learning==1.0.312) (2023.7.22)\n",
      "Requirement already satisfied: lomond in c:\\users\\silic\\appdata\\local\\programs\\python\\python311\\lib\\site-packages (from ibm-watson-machine-learning==1.0.312) (0.3.3)\n",
      "Requirement already satisfied: tabulate in c:\\users\\silic\\appdata\\local\\programs\\python\\python311\\lib\\site-packages (from ibm-watson-machine-learning==1.0.312) (0.9.0)\n",
      "Requirement already satisfied: packaging in c:\\users\\silic\\appdata\\local\\programs\\python\\python311\\lib\\site-packages (from ibm-watson-machine-learning==1.0.312) (23.1)\n",
      "Requirement already satisfied: importlib-metadata in c:\\users\\silic\\appdata\\local\\programs\\python\\python311\\lib\\site-packages (from ibm-watson-machine-learning==1.0.312) (6.8.0)\n",
      "Requirement already satisfied: ibm-cos-sdk<2.14.0,>=2.12.0 in c:\\users\\silic\\appdata\\local\\programs\\python\\python311\\lib\\site-packages (from ibm-watson-machine-learning==1.0.312) (2.13.1)\n",
      "Requirement already satisfied: ibm-cos-sdk-core==2.13.1 in c:\\users\\silic\\appdata\\local\\programs\\python\\python311\\lib\\site-packages (from ibm-cos-sdk<2.14.0,>=2.12.0->ibm-watson-machine-learning==1.0.312) (2.13.1)\n",
      "Requirement already satisfied: ibm-cos-sdk-s3transfer==2.13.1 in c:\\users\\silic\\appdata\\local\\programs\\python\\python311\\lib\\site-packages (from ibm-cos-sdk<2.14.0,>=2.12.0->ibm-watson-machine-learning==1.0.312) (2.13.1)\n",
      "Requirement already satisfied: jmespath<=1.0.1,>=0.10.0 in c:\\users\\silic\\appdata\\local\\programs\\python\\python311\\lib\\site-packages (from ibm-cos-sdk<2.14.0,>=2.12.0->ibm-watson-machine-learning==1.0.312) (1.0.1)\n",
      "Requirement already satisfied: python-dateutil<3.0.0,>=2.8.2 in c:\\users\\silic\\appdata\\local\\programs\\python\\python311\\lib\\site-packages (from ibm-cos-sdk-core==2.13.1->ibm-cos-sdk<2.14.0,>=2.12.0->ibm-watson-machine-learning==1.0.312) (2.8.2)\n",
      "Requirement already satisfied: pytz>=2020.1 in c:\\users\\silic\\appdata\\local\\programs\\python\\python311\\lib\\site-packages (from pandas<1.6.0,>=0.24.2->ibm-watson-machine-learning==1.0.312) (2023.3)\n",
      "Requirement already satisfied: numpy>=1.21.0 in c:\\users\\silic\\appdata\\local\\programs\\python\\python311\\lib\\site-packages (from pandas<1.6.0,>=0.24.2->ibm-watson-machine-learning==1.0.312) (1.25.2)\n",
      "Requirement already satisfied: charset-normalizer<4,>=2 in c:\\users\\silic\\appdata\\local\\programs\\python\\python311\\lib\\site-packages (from requests->ibm-watson-machine-learning==1.0.312) (3.2.0)\n",
      "Requirement already satisfied: idna<4,>=2.5 in c:\\users\\silic\\appdata\\local\\programs\\python\\python311\\lib\\site-packages (from requests->ibm-watson-machine-learning==1.0.312) (3.4)\n",
      "Requirement already satisfied: zipp>=0.5 in c:\\users\\silic\\appdata\\local\\programs\\python\\python311\\lib\\site-packages (from importlib-metadata->ibm-watson-machine-learning==1.0.312) (3.16.2)\n",
      "Requirement already satisfied: six>=1.10.0 in c:\\users\\silic\\appdata\\local\\programs\\python\\python311\\lib\\site-packages (from lomond->ibm-watson-machine-learning==1.0.312) (1.16.0)\n"
     ]
    }
   ],
   "source": [
    "!pip install rouge_score \n",
    "!pip install nltk \n",
    "!pip install matplotlib\n",
    "!pip install ibm-watson-machine-learning==1.0.312 "
   ]
  },
  {
   "cell_type": "markdown",
   "metadata": {},
   "source": [
    "**Note:** Please restart the notebook kernel to pick up proper version of packages installed above."
   ]
  },
  {
   "cell_type": "code",
   "execution_count": 2,
   "metadata": {
    "pycharm": {
     "name": "#%%\n"
    }
   },
   "outputs": [],
   "source": [
    "import os, getpass, json\n",
    "from pandas import read_json\n",
    "import matplotlib.pyplot as plt"
   ]
  },
  {
   "cell_type": "markdown",
   "metadata": {
    "pycharm": {
     "name": "#%% md\n"
    }
   },
   "source": [
    "### Watsonx API connection\n",
    "This cell defines the credentials required to work with watsonx API for Foundation\n",
    "Model inferencing.\n",
    "\n",
    "**Action:** Provide the IBM Cloud user API key. For details, see\n",
    "[documentation](https://cloud.ibm.com/docs/account?topic=account-userapikey&interface=ui)."
   ]
  },
  {
   "cell_type": "code",
   "execution_count": 3,
   "metadata": {
    "pycharm": {
     "name": "#%%\n"
    }
   },
   "outputs": [
    {
     "name": "stdin",
     "output_type": "stream",
     "text": [
      "Please enter your WML api key (hit enter):  ········\n"
     ]
    }
   ],
   "source": [
    "credentials = {\n",
    "    \"url\": \"https://us-south.ml.cloud.ibm.com\",\n",
    "    \"apikey\": getpass.getpass(\"Please enter your WML api key (hit enter): \")\n",
    "}"
   ]
  },
  {
   "cell_type": "markdown",
   "metadata": {
    "pycharm": {
     "name": "#%% md\n"
    }
   },
   "source": [
    "### Defining the project id\n",
    "The API requires project id that provides the context for the call. We will obtain the id from the project in which this notebook runs. Otherwise, please provide the project id.\n",
    "\n",
    "**Hint**: You can find the `project_id` as follows. Open the prompt lab in watsonx.ai. At the very top of the UI, there will be `Projects / <project name> /`. Click on the `<project name>` link. Then get the `project_id` from Project's Manage tab (Project -> Manage -> General -> Details).\n"
   ]
  },
  {
   "cell_type": "code",
   "execution_count": 4,
   "metadata": {
    "pycharm": {
     "name": "#%%\n"
    }
   },
   "outputs": [
    {
     "name": "stdin",
     "output_type": "stream",
     "text": [
      "Please enter your project_id (hit enter):  ad527a83-d416-4e49-9910-542b8b47f881\n"
     ]
    }
   ],
   "source": [
    "try:\n",
    "    project_id = os.environ[\"PROJECT_ID\"]\n",
    "except KeyError:\n",
    "    project_id = input(\"Please enter your project_id (hit enter): \")"
   ]
  },
  {
   "cell_type": "markdown",
   "metadata": {
    "pycharm": {
     "name": "#%% md\n"
    }
   },
   "source": [
    "<a id=\"data\"></a>\n",
    "## Train/test data loading"
   ]
  },
  {
   "cell_type": "markdown",
   "metadata": {},
   "source": [
    "Load train and test datasets. At first, training dataset (`train_data`) should be used to work with the models to prepare and tune prompt. Then, test dataset (`test_data`) should be used to calculate the metrics score for selected model, defined prompts and parameters."
   ]
  },
  {
   "cell_type": "code",
   "execution_count": 5,
   "metadata": {
    "collapsed": false,
    "jupyter": {
     "outputs_hidden": false
    },
    "pycharm": {
     "name": "#%%\n"
    }
   },
   "outputs": [],
   "source": [
    "filename_test = 'data/Summarisation/test.json'\n",
    "filename_train = 'data/Summarisation/train.json'\n",
    "\n",
    "test_data = read_json(filename_test).T[[\"original_text\", \"reference_summary\"]]\n",
    "train_data = read_json(filename_train).T[[\"original_text\", \"reference_summary\"]]"
   ]
  },
  {
   "cell_type": "code",
   "execution_count": 6,
   "metadata": {},
   "outputs": [
    {
     "data": {
      "text/html": [
       "<div>\n",
       "<style scoped>\n",
       "    .dataframe tbody tr th:only-of-type {\n",
       "        vertical-align: middle;\n",
       "    }\n",
       "\n",
       "    .dataframe tbody tr th {\n",
       "        vertical-align: top;\n",
       "    }\n",
       "\n",
       "    .dataframe thead th {\n",
       "        text-align: right;\n",
       "    }\n",
       "</style>\n",
       "<table border=\"1\" class=\"dataframe\">\n",
       "  <thead>\n",
       "    <tr style=\"text-align: right;\">\n",
       "      <th></th>\n",
       "      <th>original_text</th>\n",
       "      <th>reference_summary</th>\n",
       "    </tr>\n",
       "  </thead>\n",
       "  <tbody>\n",
       "    <tr>\n",
       "      <th>legalsum05</th>\n",
       "      <td>subject to your compliance with these terms ni...</td>\n",
       "      <td>don t copy modify resell distribute or reverse...</td>\n",
       "    </tr>\n",
       "    <tr>\n",
       "      <th>legalsum06</th>\n",
       "      <td>for purposes of these terms a content means th...</td>\n",
       "      <td>we grant you full ownership of your user conte...</td>\n",
       "    </tr>\n",
       "    <tr>\n",
       "      <th>legalsum07</th>\n",
       "      <td>the app permits account holders to capture and...</td>\n",
       "      <td>trading s gonna be a thing. don t try to bring...</td>\n",
       "    </tr>\n",
       "    <tr>\n",
       "      <th>legalsum08</th>\n",
       "      <td>we may cancel suspend or terminate your accoun...</td>\n",
       "      <td>if you haven t played for a year you mess up o...</td>\n",
       "    </tr>\n",
       "    <tr>\n",
       "      <th>legalsum13</th>\n",
       "      <td>we may terminate your access to and use of the...</td>\n",
       "      <td>both you and we can terminate your account and...</td>\n",
       "    </tr>\n",
       "  </tbody>\n",
       "</table>\n",
       "</div>"
      ],
      "text/plain": [
       "                                                original_text  \\\n",
       "legalsum05  subject to your compliance with these terms ni...   \n",
       "legalsum06  for purposes of these terms a content means th...   \n",
       "legalsum07  the app permits account holders to capture and...   \n",
       "legalsum08  we may cancel suspend or terminate your accoun...   \n",
       "legalsum13  we may terminate your access to and use of the...   \n",
       "\n",
       "                                            reference_summary  \n",
       "legalsum05  don t copy modify resell distribute or reverse...  \n",
       "legalsum06  we grant you full ownership of your user conte...  \n",
       "legalsum07  trading s gonna be a thing. don t try to bring...  \n",
       "legalsum08  if you haven t played for a year you mess up o...  \n",
       "legalsum13  both you and we can terminate your account and...  "
      ]
     },
     "execution_count": 6,
     "metadata": {},
     "output_type": "execute_result"
    }
   ],
   "source": [
    "train_data.head()"
   ]
  },
  {
   "cell_type": "code",
   "execution_count": 7,
   "metadata": {},
   "outputs": [
    {
     "data": {
      "text/html": [
       "<div>\n",
       "<style scoped>\n",
       "    .dataframe tbody tr th:only-of-type {\n",
       "        vertical-align: middle;\n",
       "    }\n",
       "\n",
       "    .dataframe tbody tr th {\n",
       "        vertical-align: top;\n",
       "    }\n",
       "\n",
       "    .dataframe thead th {\n",
       "        text-align: right;\n",
       "    }\n",
       "</style>\n",
       "<table border=\"1\" class=\"dataframe\">\n",
       "  <thead>\n",
       "    <tr style=\"text-align: right;\">\n",
       "      <th></th>\n",
       "      <th>original_text</th>\n",
       "      <th>reference_summary</th>\n",
       "    </tr>\n",
       "  </thead>\n",
       "  <tbody>\n",
       "    <tr>\n",
       "      <th>tosdr263</th>\n",
       "      <td>the use of our services imply your approval of...</td>\n",
       "      <td>we reserve the right to modify the terms at an...</td>\n",
       "    </tr>\n",
       "    <tr>\n",
       "      <th>tosdr082</th>\n",
       "      <td>we collect content of your files and communica...</td>\n",
       "      <td>the service can read your private messages.</td>\n",
       "    </tr>\n",
       "    <tr>\n",
       "      <th>tosdr018</th>\n",
       "      <td>you do not have to give your personal or legal...</td>\n",
       "      <td>the service allows you to use pseudonyms.</td>\n",
       "    </tr>\n",
       "    <tr>\n",
       "      <th>legalsum50</th>\n",
       "      <td>you agree that you will not remove obscure or ...</td>\n",
       "      <td>keep copyright and trademark notices intact.</td>\n",
       "    </tr>\n",
       "    <tr>\n",
       "      <th>tosdr215</th>\n",
       "      <td>you may optionally add other information to yo...</td>\n",
       "      <td>the service allows you to use pseudonyms.</td>\n",
       "    </tr>\n",
       "  </tbody>\n",
       "</table>\n",
       "</div>"
      ],
      "text/plain": [
       "                                                original_text  \\\n",
       "tosdr263    the use of our services imply your approval of...   \n",
       "tosdr082    we collect content of your files and communica...   \n",
       "tosdr018    you do not have to give your personal or legal...   \n",
       "legalsum50  you agree that you will not remove obscure or ...   \n",
       "tosdr215    you may optionally add other information to yo...   \n",
       "\n",
       "                                            reference_summary  \n",
       "tosdr263    we reserve the right to modify the terms at an...  \n",
       "tosdr082          the service can read your private messages.  \n",
       "tosdr018            the service allows you to use pseudonyms.  \n",
       "legalsum50       keep copyright and trademark notices intact.  \n",
       "tosdr215            the service allows you to use pseudonyms.  "
      ]
     },
     "execution_count": 7,
     "metadata": {},
     "output_type": "execute_result"
    }
   ],
   "source": [
    "test_data.head()"
   ]
  },
  {
   "cell_type": "markdown",
   "metadata": {
    "pycharm": {
     "name": "#%% md\n"
    }
   },
   "source": [
    "<a id=\"models\"></a>\n",
    "## Foundation Models on Watsonx"
   ]
  },
  {
   "cell_type": "markdown",
   "metadata": {
    "pycharm": {
     "name": "#%% md\n"
    }
   },
   "source": [
    "You need to specify `model_id` that will be used for inferencing."
   ]
  },
  {
   "cell_type": "markdown",
   "metadata": {},
   "source": [
    "**Action:** Use `FLAN_UL2` model."
   ]
  },
  {
   "cell_type": "code",
   "execution_count": 8,
   "metadata": {},
   "outputs": [],
   "source": [
    "from ibm_watson_machine_learning.foundation_models.utils.enums import ModelTypes"
   ]
  },
  {
   "cell_type": "code",
   "execution_count": 9,
   "metadata": {
    "pycharm": {
     "name": "#%%\n"
    }
   },
   "outputs": [],
   "source": [
    "model_id = ModelTypes.FLAN_UL2"
   ]
  },
  {
   "cell_type": "markdown",
   "metadata": {
    "pycharm": {
     "name": "#%% md\n"
    }
   },
   "source": [
    "<a id=\"predict\"></a>\n",
    "##  Generate document summary"
   ]
  },
  {
   "cell_type": "markdown",
   "metadata": {
    "pycharm": {
     "name": "#%% md\n"
    }
   },
   "source": [
    "Define instructions for the model.\n",
    "\n",
    "**Note:** Please **start with using [watsonx.ai Prompt Lab](https://dataplatform.cloud.ibm.com/wx/home?context=wx)** to find better prompts that provides you the best result on a small subset training records (under `train_data` variable). Make sure to not run an inference of all of `train_data`, as it'll take a long time to get the results. To get a sample from `train_data`, you can use e.g.`train_data.head(n=10)` to get first 10 records, or `train_data.sample(n=10)` to get random 10 records. Only once you have identified the best performing prompt, update this notebook to use the prompt and compute the metrics on the test data.\n",
    "\n",
    "**Action:** Please edit the below cell and add your own prompt here. In the below prompt, we have the instruction (first sentence) and one example included in the prompt.  If you want to change the prompt or add your own examples or more examples, please change the below prompt accordingly."
   ]
  },
  {
   "cell_type": "code",
   "execution_count": 10,
   "metadata": {
    "pycharm": {
     "name": "#%%\n"
    }
   },
   "outputs": [],
   "source": [
    "instruction =  f\"\"\"\n",
    "Considering the following business context, summarize the input in your own words in a simpler, general and much shorter manner.\n",
    "\n",
    "Business context:\n",
    "***\n",
    "The input represents complex contract language and the output is a short summary with simpler terms that contains only the essence of the input. This output will be used by a Human Resource analyst to understand the main implication of the contract as part of a negotiation process.\n",
    "***:\\n\n",
    "\n",
    "document: {train_data.original_text[0]}\\n\n",
    "summary: {train_data.reference_summary[0]}\\n\\n\n",
    "\"\"\""
   ]
  },
  {
   "cell_type": "code",
   "execution_count": 11,
   "metadata": {},
   "outputs": [
    {
     "name": "stdout",
     "output_type": "stream",
     "text": [
      "\n",
      "Considering the following business context, summarize the input in your own words in a simpler, general and much shorter manner.\n",
      "\n",
      "Business context:\n",
      "***\n",
      "The input represents complex contract language and the output is a short summary with simpler terms that contains only the essence of the input. This output will be used by a Human Resource analyst to understand the main implication of the contract as part of a negotiation process.\n",
      "***:\n",
      "\n",
      "\n",
      "document: subject to your compliance with these terms niantic grants you a limited nonexclusive nontransferable non sublicensable license to download and install a copy of the app on a mobile device and to run such copy of the app solely for your own personal noncommercial purposes. except as expressly permitted in these terms you may not a copy modify or create derivative works based on the app b distribute transfer sublicense lease lend or rent the app to any third party c reverse engineer decompile or disassemble the app or d make the functionality of the app available to multiple users through any means. niantic reserves all rights in and to the app not expressly granted to you under these terms. if you accessed or downloaded the app from the apple store then you agree to use the app only a on an apple branded product or device that runs ios apple s proprietary operating system software and b as permitted by the usage rules set forth in the apple store terms of service. if you accessed or downloaded the app from any app store or distribution platform like the apple store google play or amazon appstore each an app provider then you acknowledge and agree that these terms are concluded between you and niantic and not with app provider and that as between us and the app provider niantic is solely responsible for the app. app provider has no obligation to furnish any maintenance and support services with respect to the app. in the event of any failure of the app to conform to any applicable warranty you may notify app provider and app provider will refund the purchase price for the app to you if applicable and to the maximum extent permitted by applicable law app provider will have no other warranty obligation whatsoever with respect to the app. any other claims losses liabilities damages costs or expenses attributable to any failure of an app to conform to any warranty will be the sole responsibility of niantic. app provider is not responsible for addressing any claims you have or any claims of any third party relating to the app or your possession and use of the app including but not limited to i product liability claims ii any claim that the app fails to conform to any applicable legal or regulatory requirement and iii claims arising under consumer protection or similar legislation. in the event of any third party claim that the app or your possession and use of the app infringes that third party s intellectual property rights niantic will be solely responsible for the investigation defense settlement and discharge of any such intellectual property infringement claim to the extent required by these terms. app provider and its subsidiaries are third party beneficiaries of these terms as related to your license of the app and that upon your acceptance of the terms and conditions of these terms app provider will have the right and will be deemed to have accepted the right to enforce these terms as related to your license of the app against you as a third party beneficiary thereof. you must also comply with all applicable third party terms of service when using the app. you agree to comply with all u s and foreign export laws and regulations to ensure that neither the app nor any technical data related thereto nor any direct product thereof is exported or re exported directly or indirectly in violation of or used for any purposes prohibited by such laws and regulations. by using the app you represent and warrant that i you are not located in a country that is subject to a u s government embargo or that has been designated by the u s government as a terrorist supporting country and ii you are not listed on any u s government list of prohibited or restricted parties.\n",
      "\n",
      "summary: don t copy modify resell distribute or reverse engineer this app.\n",
      "\n",
      "\n",
      "\n"
     ]
    }
   ],
   "source": [
    "print(instruction)"
   ]
  },
  {
   "cell_type": "markdown",
   "metadata": {
    "pycharm": {
     "name": "#%% md\n"
    }
   },
   "source": [
    "### Defining the model parameters\n",
    "We need to provide a set of model parameters that will influence the result:1.\tGenParams.MAX_NEW_TOKENS: This parameter controls the maximum length of the generated output in terms of tokens. Increasing this value may result in longer generated text, while reducing it can lead to shorter summaries.\"\"\"\n",
    "\n",
    "1.\tGenParams.MAX_NEW_TOKENS: This parameter controls the maximum length of the generated output in terms of tokens. Increasing this value may result in longer generated text, while reducing it can lead to shorter summaries.\r\n",
    "2.\tGenParams.MIN_NEW_TOKENS: This parameter sets the minimum length of the generated output in terms of tokens. It can help prevent very short and incomplete summaries.\r\n",
    "3.\tGenParams.TEMPERATURE: Temperature is used in sampling-based decoding methods. Higher values (e.g., above 1) result in more diverse and exploratory outputs, while lower values (e.g., below 1) make the output more deterministic and focused.\r\n",
    "4.\tGenParams.TOP_P: This parameter, along with TOP_K, controls the diversity of the generated text. A higher value for TOP_P allows a larger proportion of the distribution to be considered during sampling, leading to more diverse text.\r\n",
    "5.\tGenParams.TOP_K: This parameter specifies the number of most likely tokens to consider during sampling. A lower value for TOP_K limits the choice of tokens and can make the output more focused.\r\n",
    "6.\tGenParams.REPETITION_PENALTY: This parameter discourages the model from repeatedly generating the same tokens. A higher value (e.g., above 1) penalizes repetition more strongly.\r\n",
    "7.\tGenParams.DECODING_METHOD: This parameter specifies the decoding method to use. In this case, DecodingMethods.SAMPLE indicates that sampling-based decoding will be used. Different decoding methods can lead to variations in the generated text's fluency, coherence, and s\"\"\"e.\r\n",
    "\r\n"
   ]
  },
  {
   "cell_type": "code",
   "execution_count": 12,
   "metadata": {
    "pycharm": {
     "name": "#%%\n"
    }
   },
   "outputs": [],
   "source": [
    "from ibm_watson_machine_learning.metanames import GenTextParamsMetaNames as GenParams\n",
    "from ibm_watson_machine_learning.foundation_models.utils.enums import DecodingMethods\n",
    "\n",
    "parameters = {\n",
    "    GenParams.MAX_NEW_TOKENS: 120,\n",
    "    GenParams.MIN_NEW_TOKENS: 20,\n",
    "    GenParams.TEMPERATURE: 0.7,\n",
    "    GenParams.TOP_P: 0.4,\n",
    "    GenParams.TOP_K: 75,\n",
    "    GenParams.REPETITION_PENALTY: 1.0,\n",
    "GenParams.DECODING_METHOD: DecodingMethods.SAMPLE\n",
    "}"
   ]
  },
  {
   "cell_type": "markdown",
   "metadata": {
    "pycharm": {
     "name": "#%% md\n"
    }
   },
   "source": [
    "Initialize the `Model` class."
   ]
  },
  {
   "cell_type": "code",
   "execution_count": 13,
   "metadata": {
    "pycharm": {
     "name": "#%%\n"
    }
   },
   "outputs": [],
   "source": [
    "from ibm_watson_machine_learning.foundation_models import Model\n",
    "\n",
    "model = Model(\n",
    "    model_id=model_id,\n",
    "    params=parameters,\n",
    "    credentials=credentials,\n",
    "    project_id=project_id)"
   ]
  },
  {
   "cell_type": "markdown",
   "metadata": {
    "pycharm": {
     "name": "#%% md\n"
    }
   },
   "source": [
    "Get the docs summaries.\n",
    "\n",
    "**Note:** Execution of this cell could take several minutes."
   ]
  },
  {
   "cell_type": "code",
   "execution_count": 14,
   "metadata": {
    "pycharm": {
     "name": "#%%\n"
    }
   },
   "outputs": [],
   "source": [
    "results = []\n",
    "documents = list(test_data.original_text)\n",
    "\n",
    "for input_text in documents:\n",
    "    results.append(model.generate_text(prompt=\" \".join([instruction, input_text])))"
   ]
  },
  {
   "cell_type": "markdown",
   "metadata": {
    "collapsed": false,
    "jupyter": {
     "outputs_hidden": false
    },
    "pycharm": {
     "name": "#%% md\n"
    }
   },
   "source": [
    "<a id=\"score\"></a>\n",
    "## Calculate rougeL metric"
   ]
  },
  {
   "cell_type": "markdown",
   "metadata": {},
   "source": [
    "In this sample notebook `rouge_score` module was used for rougeL calculation."
   ]
  },
  {
   "cell_type": "markdown",
   "metadata": {},
   "source": [
    "#### Rouge Metric"
   ]
  },
  {
   "cell_type": "markdown",
   "metadata": {},
   "source": [
    "**Note:** The Rouge (Recall-Oriented Understudy for Gisting Evaluation) metric is a set of evaluation measures used in natural language processing (NLP) and specifically in text summarization and machine translation tasks. The Rouge metrics are designed to assess the quality of generated summaries or translations by comparing them to one or more reference texts.\n",
    "\n",
    "The main idea behind Rouge is to measure the overlap between the generated summary (or translation) and the reference text(s) in terms of n-grams or longest common subsequences. By calculating recall, precision, and F1 scores based on these overlapping units, Rouge provides a quantitative assessment of the summary's content overlap with the reference(s).\n",
    "\n",
    "Rouge-1 focuses on individual word overlap, Rouge-2 considers pairs of consecutive words, and Rouge-L takes into account the ordering of words and phrases. These metrics provide different perspectives on the similarity between two texts and can be used to evaluate different aspects of summarization or text generation models."
   ]
  },
  {
   "cell_type": "code",
   "execution_count": 15,
   "metadata": {},
   "outputs": [],
   "source": [
    "from rouge_score import rouge_scorer\n",
    "from collections import defaultdict\n",
    "import numpy as np\n",
    "\n",
    "def get_rouge_score(predictions, references):\n",
    "    scorer = rouge_scorer.RougeScorer(['rouge1', 'rouge2', 'rougeL', 'rougeLsum'])\n",
    "    aggregate_score = defaultdict(list)\n",
    "\n",
    "    for result, ref in zip(predictions, references):\n",
    "        for key, val in scorer.score(result, ref).items():\n",
    "            aggregate_score[key].append(val.fmeasure)\n",
    "\n",
    "    scores = {}\n",
    "    for key in aggregate_score:\n",
    "        scores[key] = np.mean(aggregate_score[key])\n",
    "    \n",
    "    return scores"
   ]
  },
  {
   "cell_type": "code",
   "execution_count": 16,
   "metadata": {},
   "outputs": [
    {
     "name": "stdout",
     "output_type": "stream",
     "text": [
      "{'rouge1': 0.2010074631147192, 'rouge2': 0.0780488310777443, 'rougeL': 0.16475642121950884, 'rougeLsum': 0.16475642121950884}\n"
     ]
    },
    {
     "data": {
      "image/png": "[encoded data removed]",
      "text/plain": [
       "<Figure size 1000x600 with 1 Axes>"
      ]
     },
     "metadata": {},
     "output_type": "display_data"
    }
   ],
   "source": [
    "print(get_rouge_score(results, test_data.reference_summary.values))\n",
    "# Calculate ROUGE scores\n",
    "rouge_scores = get_rouge_score(results, test_data.reference_summary.values)\n",
    "\n",
    "# Visualize ROUGE scores using a bar chart\n",
    "plt.figure(figsize=(10, 6))\n",
    "plt.bar(rouge_scores.keys(), rouge_scores.values())\n",
    "plt.xlabel('ROUGE Metric')\n",
    "plt.ylabel('ROUGE Score')\n",
    "plt.title('ROUGE Scores for Summarization')\n",
    "plt.show()\n"
   ]
  },
  {
   "cell_type": "markdown",
   "metadata": {
    "collapsed": false,
    "jupyter": {
     "outputs_hidden": false
    },
    "pycharm": {
     "name": "#%% md\n"
    }
   },
   "source": [
    "---"
   ]
  },
  {
   "cell_type": "markdown",
   "metadata": {
    "pycharm": {
     "name": "#%% md\n"
    }
   },
   "source": [
    "Copyright © 2023 IBM. This notebook and its source code are released under the terms of the MIT License."
   ]
  }
 ],
 "metadata": {
  "kernelspec": {
   "display_name": "Python 3 (ipykernel)",
   "language": "python",
   "name": "python3"
  },
  "language_info": {
   "codemirror_mode": {
    "name": "ipython",
    "version": 3
   },
   "file_extension": ".py",
   "mimetype": "text/x-python",
   "name": "python",
   "nbconvert_exporter": "python",
   "pygments_lexer": "ipython3",
   "version": "3.11.4"
  }
 },
 "nbformat": 4,
 "nbformat_minor": 4
}
